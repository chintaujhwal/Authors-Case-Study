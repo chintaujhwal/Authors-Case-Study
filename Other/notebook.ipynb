{
 "cells": [
  {
   "cell_type": "code",
   "execution_count": 22,
   "id": "63661a3f-7d14-4e11-ac62-8b1e02a717b1",
   "metadata": {},
   "outputs": [],
   "source": [
    "import pandas as pd"
   ]
  },
  {
   "cell_type": "code",
   "execution_count": 23,
   "id": "e83aa88c-d014-4ba0-9f56-b0debe5dd752",
   "metadata": {},
   "outputs": [],
   "source": [
    "df = pd.read_csv(\"data_set.csv\")"
   ]
  },
  {
   "cell_type": "code",
   "execution_count": 24,
   "id": "0d4cc2b7-cd75-4144-866f-0d9281640647",
   "metadata": {},
   "outputs": [
    {
     "data": {
      "text/plain": [
       "Index(['full_name', 'publication_year', 'team_id', 'gender'], dtype='object')"
      ]
     },
     "execution_count": 24,
     "metadata": {},
     "output_type": "execute_result"
    }
   ],
   "source": [
    "df.columns"
   ]
  },
  {
   "cell_type": "code",
   "execution_count": 25,
   "id": "28ef0f97-d658-418f-af54-9a5ec122f320",
   "metadata": {},
   "outputs": [],
   "source": [
    "authors = []\n",
    "\n",
    "for full_name, publication_year, team_id, gender in zip(df['full_name'], df['publication_year'], df['team_id'], df['gender']):\n",
    "    temp = {}\n",
    "    temp['full_name'] = full_name\n",
    "    temp['publication_year'] = publication_year\n",
    "    temp['team_id'] = team_id\n",
    "    temp['gender'] = gender\n",
    "    authors.append(temp)"
   ]
  },
  {
   "cell_type": "code",
   "execution_count": 26,
   "id": "47b3a7a0-2b9b-4edc-b36f-39fecbff558d",
   "metadata": {},
   "outputs": [],
   "source": [
    "from itertools import groupby\n",
    "\n",
    "def key_func(k):\n",
    "    return k['team_id']\n",
    "\n",
    "authors = sorted(authors, key = key_func)\n",
    "teams_data = []\n",
    "\n",
    "for key, value in groupby(authors, key_func):\n",
    "    teams_data.append(list(value))"
   ]
  },
  {
   "cell_type": "code",
   "execution_count": 27,
   "id": "8addf2e0-c879-4664-9a94-4cf150b45764",
   "metadata": {},
   "outputs": [],
   "source": [
    "def addAuthorPositions(teams_data):\n",
    "    for i in teams_data:\n",
    "        for index,author in enumerate(i):\n",
    "            if(index == 0):\n",
    "                author['position'] = 'first'\n",
    "            elif(index == len(i)-1):\n",
    "                author['position'] = 'last'\n",
    "            else:\n",
    "                author['position'] = 'other'"
   ]
  },
  {
   "cell_type": "code",
   "execution_count": 28,
   "id": "f0a882a7-5c7f-4d07-abcc-8aba640bdcf7",
   "metadata": {},
   "outputs": [],
   "source": [
    "addAuthorPositions(teams_data)"
   ]
  },
  {
   "cell_type": "code",
   "execution_count": 29,
   "id": "33c884cb-ae0e-45fc-aef3-ffffd0adc06e",
   "metadata": {},
   "outputs": [],
   "source": [
    "data = []\n",
    "for i in teams_data:\n",
    "    for author in i:\n",
    "        data.append(author)        "
   ]
  },
  {
   "cell_type": "code",
   "execution_count": 37,
   "id": "a8757b69-2e44-4881-b405-b23e46f7d261",
   "metadata": {},
   "outputs": [],
   "source": [
    "types_count = {'first': {'male': 0, 'female': 0, 'unknown': 0}, 'last': {'male': 0, 'female': 0, 'unknown': 0}, 'other': {'male': 0, 'female': 0, 'unknown': 0}}"
   ]
  },
  {
   "cell_type": "code",
   "execution_count": 38,
   "id": "9527e5da-c0fb-48be-a2b9-210a031c2498",
   "metadata": {},
   "outputs": [],
   "source": [
    "for i in data:\n",
    "    types_count[i['position']][i['gender']] = types_count[i['position']][i['gender']] + 1"
   ]
  },
  {
   "cell_type": "code",
   "execution_count": 39,
   "id": "3803fc32-32d8-4f7a-883f-c09657cab9db",
   "metadata": {},
   "outputs": [
    {
     "data": {
      "text/plain": [
       "{'first': {'male': 520, 'female': 296, 'unknown': 184},\n",
       " 'last': {'male': 388, 'female': 228, 'unknown': 124},\n",
       " 'other': {'male': 625, 'female': 378, 'unknown': 183}}"
      ]
     },
     "execution_count": 39,
     "metadata": {},
     "output_type": "execute_result"
    }
   ],
   "source": [
    "types_count"
   ]
  },
  {
   "cell_type": "code",
   "execution_count": null,
   "id": "f8e1713f-e96d-4acd-9fbd-6b0db5e39c38",
   "metadata": {},
   "outputs": [],
   "source": [
    "file_data = pd.DataFrame(data)\n",
    "# file_data.to_csv(\"data.csv\", index=False)"
   ]
  }
 ],
 "metadata": {
  "kernelspec": {
   "display_name": "Python 3 (ipykernel)",
   "language": "python",
   "name": "python3"
  },
  "language_info": {
   "codemirror_mode": {
    "name": "ipython",
    "version": 3
   },
   "file_extension": ".py",
   "mimetype": "text/x-python",
   "name": "python",
   "nbconvert_exporter": "python",
   "pygments_lexer": "ipython3",
   "version": "3.8.8"
  }
 },
 "nbformat": 4,
 "nbformat_minor": 5
}
