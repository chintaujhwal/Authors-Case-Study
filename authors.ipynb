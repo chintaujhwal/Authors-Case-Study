{
 "cells": [
  {
   "cell_type": "code",
   "execution_count": 22,
   "metadata": {},
   "outputs": [],
   "source": [
    "import pandas as pd"
   ]
  },
  {
   "cell_type": "code",
   "execution_count": 23,
   "metadata": {},
   "outputs": [],
   "source": [
    "df = pd.read_csv(\"authors.csv\")"
   ]
  },
  {
   "cell_type": "code",
   "execution_count": 24,
   "metadata": {},
   "outputs": [
    {
     "data": {
      "text/plain": [
       "Index(['Authors', 'Author Full Names', 'Group Authors', 'Article Title',\n",
       "       'Journals', 'Language', 'Document Type', 'Conference Title',\n",
       "       'Conference Date', 'Conference Location', 'Conference Sponsor',\n",
       "       'Author Keywords', 'Keywords Plus', 'Abstract', 'Addresses',\n",
       "       'Country-Name', 'Leader Addresses', 'Email Addresses', 'Funding Orgs',\n",
       "       'Funding Text', 'Cited Reference Count', 'Times Cited', 'Usage Count',\n",
       "       'Publisher', 'Publisher City', 'ISSN', 'Publication Date',\n",
       "       'Publication Year', 'DOI', 'Book DOI', 'Early Access Date',\n",
       "       'Number of Pages', 'WoS Categories', 'Research Areas', 'IDS Number',\n",
       "       'UT', 'Pubmed Id', 'Open Access Designations', 'Date of Export'],\n",
       "      dtype='object')"
      ]
     },
     "execution_count": 24,
     "metadata": {},
     "output_type": "execute_result"
    }
   ],
   "source": [
    "df.columns"
   ]
  },
  {
   "cell_type": "markdown",
   "metadata": {},
   "source": [
    "# <font color='green'>Leader Addresses</font> Column\n",
    "\n",
    "#### Data collected about leader : \n",
    "- leader name\n",
    "- leader country"
   ]
  },
  {
   "cell_type": "code",
   "execution_count": 25,
   "metadata": {},
   "outputs": [],
   "source": [
    "leaderAddresses = df['Leader Addresses']"
   ]
  },
  {
   "cell_type": "code",
   "execution_count": 26,
   "metadata": {},
   "outputs": [
    {
     "data": {
      "text/plain": [
       "0    Poirier, RA (corresponding author), Mem Univ, ...\n",
       "1    Kolacz, J (corresponding author), Indiana Univ...\n",
       "2    D'Cruz, M; Banerjee, D (corresponding author),...\n",
       "3    Puthiyedath, R (corresponding author), Amrita ...\n",
       "4    Rana, MK (corresponding author), IISER, Dept C...\n",
       "Name: Leader Addresses, dtype: object"
      ]
     },
     "execution_count": 26,
     "metadata": {},
     "output_type": "execute_result"
    }
   ],
   "source": [
    "leaderAddresses.head()"
   ]
  },
  {
   "cell_type": "markdown",
   "metadata": {},
   "source": [
    "### *getLeader( )*"
   ]
  },
  {
   "cell_type": "code",
   "execution_count": 27,
   "metadata": {},
   "outputs": [],
   "source": [
    "def getLeader(text):\n",
    "    data = {}\n",
    "    data[\"leader_last_name\"] = text.split(\",\",1)[0]\n",
    "    data[\"leader_country\"] = text.replace(\".\",\"\").strip().split(\" \")[-1]\n",
    "    return data"
   ]
  },
  {
   "cell_type": "code",
   "execution_count": 28,
   "metadata": {},
   "outputs": [
    {
     "data": {
      "text/plain": [
       "{'leader_last_name': 'Choudhari', 'leader_country': 'India'}"
      ]
     },
     "execution_count": 28,
     "metadata": {},
     "output_type": "execute_result"
    }
   ],
   "source": [
    "getLeader(leaderAddresses[500])"
   ]
  },
  {
   "cell_type": "markdown",
   "metadata": {},
   "source": [
    "# <font color='green'>Addresses</font> Column\n",
    "\n",
    "#### Data collected about authors : \n",
    "- first name\n",
    "- last name\n",
    "- full name\n",
    "- department\n",
    "- university\n",
    "- country"
   ]
  },
  {
   "cell_type": "code",
   "execution_count": 29,
   "metadata": {},
   "outputs": [],
   "source": [
    "Addresses = df['Addresses']"
   ]
  },
  {
   "cell_type": "code",
   "execution_count": 30,
   "metadata": {},
   "outputs": [
    {
     "data": {
      "text/plain": [
       "0    [Abu-Saleh, Abd Al-Aziz A.; Awad, Ibrahim E.; ...\n",
       "1    [Kolacz, Jacek; Nix, Evan J.; Roath, Olivia K....\n",
       "2    [D'Cruz, Migita; Banerjee, Debanjan] Natl Inst...\n",
       "3    [Payyappallimana, Unnikrishnan] Univ Transdisc...\n",
       "4    [Sen Gupta, Parth Sarthi; Biswal, Satyaranjan;...\n",
       "Name: Addresses, dtype: object"
      ]
     },
     "execution_count": 30,
     "metadata": {},
     "output_type": "execute_result"
    }
   ],
   "source": [
    "Addresses.head()"
   ]
  },
  {
   "cell_type": "markdown",
   "metadata": {},
   "source": [
    "### *getAuthors( )*"
   ]
  },
  {
   "cell_type": "code",
   "execution_count": 31,
   "metadata": {},
   "outputs": [],
   "source": [
    "def getAuthors(text):\n",
    "    data = []\n",
    "    addresses = text.split(\"[\")[1:]\n",
    "    for i in addresses:\n",
    "        address = i.replace(\"\\n\",\"\").strip();\n",
    "        if address[-1] == \";\":\n",
    "            address = address[:-1]   \n",
    "        address = address.split(\"]\")    \n",
    "        address_parts = address[1].split(\",\")\n",
    "        university = address_parts[0]\n",
    "        department = address_parts[1]\n",
    "        country = address_parts[-1].split(\" \")[-1]\n",
    "        authors = address[0].replace(\".\",\"\").split(\";\")\n",
    "        for j in authors:\n",
    "            author = {}\n",
    "            name = j.replace(\"-\",\" \").split(\",\",1)\n",
    "            author[\"first_name\"] = name[-1].strip()\n",
    "            author[\"last_name\"] = name[0].strip()\n",
    "            author[\"full_name\"] = author[\"first_name\"] + \", \" + author[\"last_name\"]\n",
    "            author[\"department\"] = department.replace(\"dept\",\"\").replace(\"Dept\",\"\").strip()\n",
    "            author[\"university\"] = university.strip()\n",
    "            author[\"country\"] = country.strip()\n",
    "            data.append(author)\n",
    "    return data"
   ]
  },
  {
   "cell_type": "code",
   "execution_count": 32,
   "metadata": {},
   "outputs": [
    {
     "data": {
      "text/plain": [
       "[{'first_name': 'Sunitha M',\n",
       "  'last_name': 'Kasibhatla',\n",
       "  'full_name': 'Sunitha M, Kasibhatla',\n",
       "  'department': 'Bioinformat Ctr',\n",
       "  'university': 'Savitribai Phule Pune Univ',\n",
       "  'country': 'India'},\n",
       " {'first_name': 'Meenal',\n",
       "  'last_name': 'Kinikar',\n",
       "  'full_name': 'Meenal, Kinikar',\n",
       "  'department': 'Bioinformat Ctr',\n",
       "  'university': 'Savitribai Phule Pune Univ',\n",
       "  'country': 'India'},\n",
       " {'first_name': 'Sanket',\n",
       "  'last_name': 'Limaye',\n",
       "  'full_name': 'Sanket, Limaye',\n",
       "  'department': 'Bioinformat Ctr',\n",
       "  'university': 'Savitribai Phule Pune Univ',\n",
       "  'country': 'India'},\n",
       " {'first_name': 'Urmila',\n",
       "  'last_name': 'Kulkarni Kale',\n",
       "  'full_name': 'Urmila, Kulkarni Kale',\n",
       "  'department': 'Bioinformat Ctr',\n",
       "  'university': 'Savitribai Phule Pune Univ',\n",
       "  'country': 'India'},\n",
       " {'first_name': 'Sunitha M',\n",
       "  'last_name': 'Kasibhatla',\n",
       "  'full_name': 'Sunitha M, Kasibhatla',\n",
       "  'department': 'HPC Med & Bioinformat Applicat Grp',\n",
       "  'university': 'Ctr Dev Adv Comp',\n",
       "  'country': 'India'},\n",
       " {'first_name': 'Mohan M',\n",
       "  'last_name': 'Kale',\n",
       "  'full_name': 'Mohan M, Kale',\n",
       "  'department': 'Stat',\n",
       "  'university': 'Savitribai Phule Pune Univ',\n",
       "  'country': 'India'}]"
      ]
     },
     "execution_count": 32,
     "metadata": {},
     "output_type": "execute_result"
    }
   ],
   "source": [
    "getAuthors(Addresses[50])"
   ]
  },
  {
   "cell_type": "markdown",
   "metadata": {},
   "source": [
    "# <font color='green'>Adding Leaders</font> to Authors"
   ]
  },
  {
   "cell_type": "code",
   "execution_count": 33,
   "metadata": {},
   "outputs": [
    {
     "data": {
      "text/plain": [
       "4145"
      ]
     },
     "execution_count": 33,
     "metadata": {},
     "output_type": "execute_result"
    }
   ],
   "source": [
    "authors = []\n",
    "for i in Addresses:\n",
    "    authors.append(getAuthors(i))\n",
    "len(authors)"
   ]
  },
  {
   "cell_type": "code",
   "execution_count": 34,
   "metadata": {},
   "outputs": [
    {
     "data": {
      "text/plain": [
       "4145"
      ]
     },
     "execution_count": 34,
     "metadata": {},
     "output_type": "execute_result"
    }
   ],
   "source": [
    "leaders = []\n",
    "count = 0\n",
    "for i in leaderAddresses:\n",
    "    leaders.append(getLeader(i))\n",
    "len(leaders)"
   ]
  },
  {
   "cell_type": "markdown",
   "metadata": {},
   "source": [
    "### *addLeaders( )*"
   ]
  },
  {
   "cell_type": "code",
   "execution_count": 35,
   "metadata": {},
   "outputs": [],
   "source": [
    "def addLeaders(authors_data, leaders_data):\n",
    "    result = []\n",
    "    for authors,leader in zip(authors_data,leaders_data):\n",
    "        leader_last_name = leader['leader_last_name']\n",
    "        leader_name = \"\"\n",
    "        temp = []\n",
    "        for i in authors:\n",
    "            if i['last_name'] == leader_last_name:\n",
    "                leader_name = i['full_name']\n",
    "        for j in authors:\n",
    "            j['leader'] = leader_name\n",
    "            temp.append(j)\n",
    "        result.append(temp)\n",
    "    return result"
   ]
  },
  {
   "cell_type": "code",
   "execution_count": 36,
   "metadata": {},
   "outputs": [],
   "source": [
    "authors_row_wise = addLeaders(authors,leaders)"
   ]
  },
  {
   "cell_type": "code",
   "execution_count": 37,
   "metadata": {},
   "outputs": [
    {
     "data": {
      "text/plain": [
       "[{'first_name': 'Abd Al Aziz A',\n",
       "  'last_name': 'Abu Saleh',\n",
       "  'full_name': 'Abd Al Aziz A, Abu Saleh',\n",
       "  'department': 'Chem',\n",
       "  'university': 'Mem Univ',\n",
       "  'country': 'Canada',\n",
       "  'leader': 'Raymond A, Poirier'},\n",
       " {'first_name': 'Ibrahim E',\n",
       "  'last_name': 'Awad',\n",
       "  'full_name': 'Ibrahim E, Awad',\n",
       "  'department': 'Chem',\n",
       "  'university': 'Mem Univ',\n",
       "  'country': 'Canada',\n",
       "  'leader': 'Raymond A, Poirier'},\n",
       " {'first_name': 'Raymond A',\n",
       "  'last_name': 'Poirier',\n",
       "  'full_name': 'Raymond A, Poirier',\n",
       "  'department': 'Chem',\n",
       "  'university': 'Mem Univ',\n",
       "  'country': 'Canada',\n",
       "  'leader': 'Raymond A, Poirier'},\n",
       " {'first_name': 'Arpita',\n",
       "  'last_name': 'Yadav',\n",
       "  'full_name': 'Arpita, Yadav',\n",
       "  'department': 'Chem',\n",
       "  'university': 'Chhatrapati Shahu Ji Maharaj Univ',\n",
       "  'country': 'India',\n",
       "  'leader': 'Raymond A, Poirier'}]"
      ]
     },
     "execution_count": 37,
     "metadata": {},
     "output_type": "execute_result"
    }
   ],
   "source": [
    "authors_row_wise[0]"
   ]
  },
  {
   "cell_type": "code",
   "execution_count": 40,
   "metadata": {},
   "outputs": [],
   "source": [
    "all_authors = []\n",
    "for i in authors_row_wise:\n",
    "    for j in i:\n",
    "        all_authors.append(j)        "
   ]
  },
  {
   "cell_type": "code",
   "execution_count": 41,
   "metadata": {},
   "outputs": [
    {
     "data": {
      "text/plain": [
       "36378"
      ]
     },
     "execution_count": 41,
     "metadata": {},
     "output_type": "execute_result"
    }
   ],
   "source": [
    "len(all_authors)"
   ]
  },
  {
   "cell_type": "code",
   "execution_count": 45,
   "metadata": {},
   "outputs": [],
   "source": [
    "indian_authors = []\n",
    "for i in all_authors:\n",
    "    if i['country'] == \"India\":\n",
    "        indian_authors.append(i)"
   ]
  },
  {
   "cell_type": "code",
   "execution_count": 47,
   "metadata": {},
   "outputs": [
    {
     "data": {
      "text/plain": [
       "17788"
      ]
     },
     "execution_count": 47,
     "metadata": {},
     "output_type": "execute_result"
    }
   ],
   "source": [
    "len(indian_authors)"
   ]
  },
  {
   "cell_type": "code",
   "execution_count": null,
   "metadata": {},
   "outputs": [],
   "source": []
  }
 ],
 "metadata": {
  "kernelspec": {
   "display_name": "Python 3",
   "language": "python",
   "name": "python3"
  },
  "language_info": {
   "codemirror_mode": {
    "name": "ipython",
    "version": 3
   },
   "file_extension": ".py",
   "mimetype": "text/x-python",
   "name": "python",
   "nbconvert_exporter": "python",
   "pygments_lexer": "ipython3",
   "version": "3.8.5"
  }
 },
 "nbformat": 4,
 "nbformat_minor": 4
}
