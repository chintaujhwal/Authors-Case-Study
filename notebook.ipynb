{
 "cells": [
  {
   "cell_type": "code",
   "execution_count": 24,
   "metadata": {},
   "outputs": [],
   "source": [
    "import pandas as pd"
   ]
  },
  {
   "cell_type": "code",
   "execution_count": 25,
   "metadata": {},
   "outputs": [],
   "source": [
    "df = pd.read_csv(\"dataset_3.csv\")"
   ]
  },
  {
   "cell_type": "code",
   "execution_count": 26,
   "metadata": {},
   "outputs": [
    {
     "data": {
      "text/plain": [
       "Index(['Authors', 'Author Full Names', 'Group Authors', 'Article Title',\n",
       "       'Journals', 'Language', 'Document Type', 'Conference Title',\n",
       "       'Conference Date', 'Conference Location', 'Conference Sponsor',\n",
       "       'Author Keywords', 'Keywords Plus', 'Abstract', 'Addresses',\n",
       "       'Country-Name', 'Leader Addresses', 'Email Addresses', 'Funding Orgs',\n",
       "       'Funding Text', 'Cited Reference Count', 'Times Cited', 'Usage Count',\n",
       "       'Publisher', 'Publisher City', 'ISSN', 'Publication Date',\n",
       "       'Publication Year', 'DOI', 'Book DOI', 'Early Access Date',\n",
       "       'Number of Pages', 'WoS Categories', 'Research Areas', 'IDS Number',\n",
       "       'UT', 'Pubmed Id', 'Open Access Designations', 'Date of Export'],\n",
       "      dtype='object')"
      ]
     },
     "execution_count": 26,
     "metadata": {},
     "output_type": "execute_result"
    }
   ],
   "source": [
    "df.columns"
   ]
  },
  {
   "cell_type": "markdown",
   "metadata": {},
   "source": [
    "# Leader Addresses Column\n",
    "\n",
    "#### Data collected about leaders: \n",
    "- leader name\n",
    "- leader country"
   ]
  },
  {
   "cell_type": "code",
   "execution_count": 27,
   "metadata": {},
   "outputs": [],
   "source": [
    "leaderAddresses = df['Leader Addresses']"
   ]
  },
  {
   "cell_type": "code",
   "execution_count": 28,
   "metadata": {},
   "outputs": [
    {
     "data": {
      "text/plain": [
       "'Poirier, RA (corresponding author), Mem Univ, Chem Dept, St John, NF A1B 3X7, Canada.'"
      ]
     },
     "execution_count": 28,
     "metadata": {},
     "output_type": "execute_result"
    }
   ],
   "source": [
    "leaderAddresses[0]"
   ]
  },
  {
   "cell_type": "markdown",
   "metadata": {},
   "source": [
    "### *getLeader( )*"
   ]
  },
  {
   "cell_type": "code",
   "execution_count": 29,
   "metadata": {},
   "outputs": [],
   "source": [
    "def getLeader(text):\n",
    "    data = {}\n",
    "    data[\"leader_last_name\"] = text.split(\",\",1)[0]\n",
    "    data[\"leader_country\"] = text.replace(\".\",\"\").strip().split(\" \")[-1]\n",
    "    return data"
   ]
  },
  {
   "cell_type": "code",
   "execution_count": 30,
   "metadata": {},
   "outputs": [
    {
     "data": {
      "text/plain": [
       "{'leader_last_name': 'Poirier', 'leader_country': 'Canada'}"
      ]
     },
     "execution_count": 30,
     "metadata": {},
     "output_type": "execute_result"
    }
   ],
   "source": [
    "getLeader(leaderAddresses[0])"
   ]
  },
  {
   "cell_type": "markdown",
   "metadata": {},
   "source": [
    "# Addresses Column\n",
    "\n",
    "#### Data collected about authors : \n",
    "- firstname\n",
    "- lastname\n",
    "- fullname\n",
    "- department\n",
    "- university\n",
    "- country"
   ]
  },
  {
   "cell_type": "code",
   "execution_count": 31,
   "metadata": {},
   "outputs": [],
   "source": [
    "Addresses = df['Addresses']"
   ]
  },
  {
   "cell_type": "code",
   "execution_count": 32,
   "metadata": {},
   "outputs": [
    {
     "data": {
      "text/plain": [
       "'[Abu-Saleh, Abd Al-Aziz A.; Awad, Ibrahim E.; Poirier, Raymond A.] Mem Univ, Chem Dept, St John, NF A1B 3X7, Canada; [Yadav, Arpita] Chhatrapati Shahu Ji Maharaj Univ, Dept Chem, Univ Inst Engn & Technol, Kanpur 208024, Uttar Pradesh, India'"
      ]
     },
     "execution_count": 32,
     "metadata": {},
     "output_type": "execute_result"
    }
   ],
   "source": [
    "Addresses[0]"
   ]
  },
  {
   "cell_type": "markdown",
   "metadata": {},
   "source": [
    "### *getAuthors( )*"
   ]
  },
  {
   "cell_type": "code",
   "execution_count": 33,
   "metadata": {},
   "outputs": [],
   "source": [
    "def getAuthors(text):\n",
    "    data = []\n",
    "    addresses = text.split(\"[\")[1:]\n",
    "    for i in addresses:\n",
    "        address = i.replace(\"\\n\",\"\").strip();\n",
    "        if address[-1] == \";\":\n",
    "            address = address[:-1]   \n",
    "        address = address.split(\"]\")    \n",
    "        address_parts = address[1].split(\",\")\n",
    "        university = address_parts[0]\n",
    "        department = address_parts[1]\n",
    "        country = address_parts[-1].split(\" \")[-1]\n",
    "        authors = address[0].replace(\".\",\"\").split(\";\")\n",
    "        for j in authors:\n",
    "            author = {}\n",
    "            name = j.replace(\"-\",\" \").split(\",\",1)\n",
    "            author[\"first_name\"] = name[-1].strip()\n",
    "            author[\"last_name\"] = name[0].strip()\n",
    "            author[\"full_name\"] = author[\"first_name\"] + \", \" + author[\"last_name\"]\n",
    "            author[\"department\"] = department.replace(\"dept\",\"\").replace(\"Dept\",\"\").strip()\n",
    "            author[\"university\"] = university.strip()\n",
    "            author[\"country\"] = country.strip()\n",
    "            data.append(author)\n",
    "    return data"
   ]
  },
  {
   "cell_type": "code",
   "execution_count": 34,
   "metadata": {},
   "outputs": [
    {
     "data": {
      "text/plain": [
       "[{'first_name': 'Abd Al Aziz A',\n",
       "  'last_name': 'Abu Saleh',\n",
       "  'full_name': 'Abd Al Aziz A, Abu Saleh',\n",
       "  'department': 'Chem',\n",
       "  'university': 'Mem Univ',\n",
       "  'country': 'Canada'},\n",
       " {'first_name': 'Ibrahim E',\n",
       "  'last_name': 'Awad',\n",
       "  'full_name': 'Ibrahim E, Awad',\n",
       "  'department': 'Chem',\n",
       "  'university': 'Mem Univ',\n",
       "  'country': 'Canada'},\n",
       " {'first_name': 'Raymond A',\n",
       "  'last_name': 'Poirier',\n",
       "  'full_name': 'Raymond A, Poirier',\n",
       "  'department': 'Chem',\n",
       "  'university': 'Mem Univ',\n",
       "  'country': 'Canada'},\n",
       " {'first_name': 'Arpita',\n",
       "  'last_name': 'Yadav',\n",
       "  'full_name': 'Arpita, Yadav',\n",
       "  'department': 'Chem',\n",
       "  'university': 'Chhatrapati Shahu Ji Maharaj Univ',\n",
       "  'country': 'India'}]"
      ]
     },
     "execution_count": 34,
     "metadata": {},
     "output_type": "execute_result"
    }
   ],
   "source": [
    "getAuthors(Addresses[0])"
   ]
  },
  {
   "cell_type": "markdown",
   "metadata": {},
   "source": [
    "# Collecting Authors and Leaders"
   ]
  },
  {
   "cell_type": "code",
   "execution_count": 35,
   "metadata": {},
   "outputs": [
    {
     "data": {
      "text/plain": [
       "4145"
      ]
     },
     "execution_count": 35,
     "metadata": {},
     "output_type": "execute_result"
    }
   ],
   "source": [
    "authors = []\n",
    "for i in Addresses:\n",
    "    authors.append(getAuthors(i))\n",
    "len(authors)"
   ]
  },
  {
   "cell_type": "code",
   "execution_count": 36,
   "metadata": {},
   "outputs": [
    {
     "data": {
      "text/plain": [
       "4145"
      ]
     },
     "execution_count": 36,
     "metadata": {},
     "output_type": "execute_result"
    }
   ],
   "source": [
    "leaders = []\n",
    "count = 0\n",
    "for i in leaderAddresses:\n",
    "    leaders.append(getLeader(i))\n",
    "len(leaders)"
   ]
  },
  {
   "cell_type": "markdown",
   "metadata": {},
   "source": [
    "# Adding Leaders to Authors"
   ]
  },
  {
   "cell_type": "markdown",
   "metadata": {},
   "source": [
    "### *addLeaders( )*"
   ]
  },
  {
   "cell_type": "code",
   "execution_count": 37,
   "metadata": {},
   "outputs": [],
   "source": [
    "def addLeaders(authors_data, leaders_data):\n",
    "    result = []\n",
    "    for authors,leader in zip(authors_data,leaders_data):\n",
    "        leader_last_name = leader['leader_last_name']\n",
    "        leader_name = \"\"\n",
    "        temp = []\n",
    "        for i in authors:\n",
    "            if i['last_name'] == leader_last_name:\n",
    "                leader_name = i['full_name']\n",
    "        for j in authors:\n",
    "            j['leader'] = leader_name\n",
    "            temp.append(j)\n",
    "        result.append(temp)\n",
    "    return result"
   ]
  },
  {
   "cell_type": "code",
   "execution_count": 38,
   "metadata": {},
   "outputs": [],
   "source": [
    "authors_row = addLeaders(authors,leaders)"
   ]
  },
  {
   "cell_type": "code",
   "execution_count": 39,
   "metadata": {},
   "outputs": [
    {
     "data": {
      "text/plain": [
       "[{'first_name': 'Abd Al Aziz A',\n",
       "  'last_name': 'Abu Saleh',\n",
       "  'full_name': 'Abd Al Aziz A, Abu Saleh',\n",
       "  'department': 'Chem',\n",
       "  'university': 'Mem Univ',\n",
       "  'country': 'Canada',\n",
       "  'leader': 'Raymond A, Poirier'},\n",
       " {'first_name': 'Ibrahim E',\n",
       "  'last_name': 'Awad',\n",
       "  'full_name': 'Ibrahim E, Awad',\n",
       "  'department': 'Chem',\n",
       "  'university': 'Mem Univ',\n",
       "  'country': 'Canada',\n",
       "  'leader': 'Raymond A, Poirier'},\n",
       " {'first_name': 'Raymond A',\n",
       "  'last_name': 'Poirier',\n",
       "  'full_name': 'Raymond A, Poirier',\n",
       "  'department': 'Chem',\n",
       "  'university': 'Mem Univ',\n",
       "  'country': 'Canada',\n",
       "  'leader': 'Raymond A, Poirier'},\n",
       " {'first_name': 'Arpita',\n",
       "  'last_name': 'Yadav',\n",
       "  'full_name': 'Arpita, Yadav',\n",
       "  'department': 'Chem',\n",
       "  'university': 'Chhatrapati Shahu Ji Maharaj Univ',\n",
       "  'country': 'India',\n",
       "  'leader': 'Raymond A, Poirier'}]"
      ]
     },
     "execution_count": 39,
     "metadata": {},
     "output_type": "execute_result"
    }
   ],
   "source": [
    "authors_row[0]"
   ]
  },
  {
   "cell_type": "code",
   "execution_count": 40,
   "metadata": {},
   "outputs": [],
   "source": [
    "data = []\n",
    "for i in authors_row:\n",
    "    for j in i:\n",
    "        data.append(j)        "
   ]
  },
  {
   "cell_type": "markdown",
   "metadata": {},
   "source": [
    "# Adding API Names to Authors"
   ]
  },
  {
   "cell_type": "code",
   "execution_count": 41,
   "metadata": {},
   "outputs": [],
   "source": [
    "# for i in data:\n",
    "#     first_name = i[\"first_name\"].split(\" \")\n",
    "#     if(len(first_name[0]) > 1):\n",
    "#         i['api_name'] = first_name[0]\n",
    "#     else:\n",
    "#         last_name = i[\"last_name\"].split(\" \")\n",
    "#         i['api_name'] = last_name[0]   "
   ]
  },
  {
   "cell_type": "code",
   "execution_count": 42,
   "metadata": {},
   "outputs": [],
   "source": [
    "# file = open(\"data.txt\",\"w\")\n",
    "# file.write(str(data))"
   ]
  }
 ],
 "metadata": {
  "kernelspec": {
   "display_name": "Python 3",
   "language": "python",
   "name": "python3"
  },
  "language_info": {
   "codemirror_mode": {
    "name": "ipython",
    "version": 3
   },
   "file_extension": ".py",
   "mimetype": "text/x-python",
   "name": "python",
   "nbconvert_exporter": "python",
   "pygments_lexer": "ipython3",
   "version": "3.8.8"
  }
 },
 "nbformat": 4,
 "nbformat_minor": 4
}
