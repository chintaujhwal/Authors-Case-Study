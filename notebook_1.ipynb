{
 "cells": [
  {
   "cell_type": "code",
   "execution_count": 70,
   "metadata": {
    "tags": []
   },
   "outputs": [],
   "source": [
    "import pandas as pd"
   ]
  },
  {
   "cell_type": "markdown",
   "metadata": {
    "tags": []
   },
   "source": [
    "#### dataset_1 \n",
    "- Complete Data\n",
    "- __6027__ Rows\n",
    "\n",
    "#### dataset_2\n",
    "- Applied filters to dataset_1\n",
    "- __4145__ Rows\n",
    "\n",
    "#### dataset_3 \n",
    "- Made corrections in dataset_2"
   ]
  },
  {
   "cell_type": "code",
   "execution_count": 71,
   "metadata": {},
   "outputs": [],
   "source": [
    "df = pd.read_csv(\"dataset_3.csv\")"
   ]
  },
  {
   "cell_type": "code",
   "execution_count": 72,
   "metadata": {},
   "outputs": [
    {
     "data": {
      "text/plain": [
       "Index(['Authors', 'Author Full Names', 'Group Authors', 'Article Title',\n",
       "       'Journals', 'Language', 'Document Type', 'Conference Title',\n",
       "       'Conference Date', 'Conference Location', 'Conference Sponsor',\n",
       "       'Author Keywords', 'Keywords Plus', 'Abstract', 'Addresses',\n",
       "       'Country-Name', 'Leader Addresses', 'Email Addresses', 'Funding Orgs',\n",
       "       'Funding Text', 'Cited Reference Count', 'Times Cited', 'Usage Count',\n",
       "       'Publisher', 'Publisher City', 'ISSN', 'Publication Date',\n",
       "       'Publication Year', 'DOI', 'Book DOI', 'Early Access Date',\n",
       "       'Number of Pages', 'WoS Categories', 'Research Areas', 'IDS Number',\n",
       "       'UT', 'Pubmed Id', 'Open Access Designations', 'Date of Export'],\n",
       "      dtype='object')"
      ]
     },
     "execution_count": 72,
     "metadata": {},
     "output_type": "execute_result"
    }
   ],
   "source": [
    "df.columns"
   ]
  },
  {
   "cell_type": "markdown",
   "metadata": {},
   "source": [
    "## Column - __Addresses__\n",
    "\n",
    "#### Data collected about authors : \n",
    "- firstname\n",
    "- lastname\n",
    "- fullname\n",
    "- department\n",
    "- organization\n",
    "- country"
   ]
  },
  {
   "cell_type": "code",
   "execution_count": 73,
   "metadata": {},
   "outputs": [],
   "source": [
    "Addresses = df['Addresses']"
   ]
  },
  {
   "cell_type": "code",
   "execution_count": 74,
   "metadata": {},
   "outputs": [
    {
     "data": {
      "text/plain": [
       "'[Abu-Saleh, Abd Al-Aziz A.; Awad, Ibrahim E.; Poirier, Raymond A.] Mem Univ, Chem Dept, St John, NF A1B 3X7, Canada; [Yadav, Arpita] Chhatrapati Shahu Ji Maharaj Univ, Dept Chem, Univ Inst Engn & Technol, Kanpur 208024, Uttar Pradesh, India'"
      ]
     },
     "execution_count": 74,
     "metadata": {},
     "output_type": "execute_result"
    }
   ],
   "source": [
    "Addresses[0]"
   ]
  },
  {
   "cell_type": "markdown",
   "metadata": {},
   "source": [
    "### *getAuthors( )*"
   ]
  },
  {
   "cell_type": "code",
   "execution_count": 75,
   "metadata": {},
   "outputs": [],
   "source": [
    "def getAuthors(text):\n",
    "    data = []\n",
    "    addresses = text.split(\"[\")[1:]\n",
    "    for i in addresses:\n",
    "        address = i.replace(\"\\n\",\"\").strip();\n",
    "        if address[-1] == \";\":\n",
    "            address = address[:-1]   \n",
    "        address = address.split(\"]\")    \n",
    "        address_parts = address[1].split(\",\")\n",
    "        organization = address_parts[0]\n",
    "        department = address_parts[1]\n",
    "        country = address_parts[-1].split(\" \")[-1]\n",
    "        authors = address[0].replace(\".\",\"\").split(\";\")\n",
    "        for j in authors:\n",
    "            author = {}\n",
    "            name = j.replace(\"-\",\" \").split(\",\",1)\n",
    "            author[\"first_name\"] = name[-1].strip()\n",
    "            author[\"last_name\"] = name[0].strip()\n",
    "            author[\"full_name\"] = author[\"first_name\"] + \", \" + author[\"last_name\"]\n",
    "            author[\"department\"] = department.replace(\"dept\",\"\").replace(\"Dept\",\"\").strip()\n",
    "            author[\"organization\"] = organization.strip()\n",
    "            author[\"country\"] = country.strip()\n",
    "            data.append(author)\n",
    "    return data"
   ]
  },
  {
   "cell_type": "code",
   "execution_count": 76,
   "metadata": {},
   "outputs": [
    {
     "data": {
      "text/plain": [
       "[{'first_name': 'Abd Al Aziz A',\n",
       "  'last_name': 'Abu Saleh',\n",
       "  'full_name': 'Abd Al Aziz A, Abu Saleh',\n",
       "  'department': 'Chem',\n",
       "  'organization': 'Mem Univ',\n",
       "  'country': 'Canada'},\n",
       " {'first_name': 'Ibrahim E',\n",
       "  'last_name': 'Awad',\n",
       "  'full_name': 'Ibrahim E, Awad',\n",
       "  'department': 'Chem',\n",
       "  'organization': 'Mem Univ',\n",
       "  'country': 'Canada'},\n",
       " {'first_name': 'Raymond A',\n",
       "  'last_name': 'Poirier',\n",
       "  'full_name': 'Raymond A, Poirier',\n",
       "  'department': 'Chem',\n",
       "  'organization': 'Mem Univ',\n",
       "  'country': 'Canada'},\n",
       " {'first_name': 'Arpita',\n",
       "  'last_name': 'Yadav',\n",
       "  'full_name': 'Arpita, Yadav',\n",
       "  'department': 'Chem',\n",
       "  'organization': 'Chhatrapati Shahu Ji Maharaj Univ',\n",
       "  'country': 'India'}]"
      ]
     },
     "execution_count": 76,
     "metadata": {},
     "output_type": "execute_result"
    }
   ],
   "source": [
    "getAuthors(Addresses[0])"
   ]
  },
  {
   "cell_type": "markdown",
   "metadata": {},
   "source": [
    "## Column - __Leader Addresses__\n",
    "\n",
    "#### Data collected about leaders : \n",
    "- leader name\n",
    "- leader country"
   ]
  },
  {
   "cell_type": "code",
   "execution_count": 77,
   "metadata": {},
   "outputs": [],
   "source": [
    "leaderAddresses = df['Leader Addresses']"
   ]
  },
  {
   "cell_type": "code",
   "execution_count": 78,
   "metadata": {},
   "outputs": [
    {
     "data": {
      "text/plain": [
       "'Poirier, RA (corresponding author), Mem Univ, Chem Dept, St John, NF A1B 3X7, Canada.'"
      ]
     },
     "execution_count": 78,
     "metadata": {},
     "output_type": "execute_result"
    }
   ],
   "source": [
    "leaderAddresses[0]"
   ]
  },
  {
   "cell_type": "markdown",
   "metadata": {},
   "source": [
    "### *getLeader( )*"
   ]
  },
  {
   "cell_type": "code",
   "execution_count": 79,
   "metadata": {},
   "outputs": [],
   "source": [
    "def getLeader(text):\n",
    "    data = {}\n",
    "    data[\"leader_last_name\"] = text.split(\",\",1)[0]\n",
    "    data[\"leader_country\"] = text.replace(\".\",\"\").strip().split(\" \")[-1]\n",
    "    return data"
   ]
  },
  {
   "cell_type": "code",
   "execution_count": 80,
   "metadata": {},
   "outputs": [
    {
     "data": {
      "text/plain": [
       "{'leader_last_name': 'Poirier', 'leader_country': 'Canada'}"
      ]
     },
     "execution_count": 80,
     "metadata": {},
     "output_type": "execute_result"
    }
   ],
   "source": [
    "getLeader(leaderAddresses[0])"
   ]
  },
  {
   "cell_type": "markdown",
   "metadata": {},
   "source": [
    "## Collecting all __authors__ and __leaders__"
   ]
  },
  {
   "cell_type": "code",
   "execution_count": 81,
   "metadata": {},
   "outputs": [
    {
     "data": {
      "text/plain": [
       "4145"
      ]
     },
     "execution_count": 81,
     "metadata": {},
     "output_type": "execute_result"
    }
   ],
   "source": [
    "authors = []\n",
    "for i in Addresses:\n",
    "    authors.append(getAuthors(i))\n",
    "len(authors)"
   ]
  },
  {
   "cell_type": "code",
   "execution_count": 82,
   "metadata": {},
   "outputs": [
    {
     "data": {
      "text/plain": [
       "4145"
      ]
     },
     "execution_count": 82,
     "metadata": {},
     "output_type": "execute_result"
    }
   ],
   "source": [
    "leaders = []\n",
    "count = 0\n",
    "for i in leaderAddresses:\n",
    "    leaders.append(getLeader(i))\n",
    "len(leaders)"
   ]
  },
  {
   "cell_type": "markdown",
   "metadata": {},
   "source": [
    "### *addLeaders( )*"
   ]
  },
  {
   "cell_type": "code",
   "execution_count": 83,
   "metadata": {},
   "outputs": [],
   "source": [
    "def addLeaders(teams_data, leaders_data):\n",
    "    result = []\n",
    "    for team,leader in zip(teams_data,leaders_data):\n",
    "        leader_last_name = leader['leader_last_name']\n",
    "        leader_name = \"\"\n",
    "        temp = []\n",
    "        for i in team:\n",
    "            if i['last_name'] == leader_last_name:\n",
    "                leader_name = i['full_name']\n",
    "        for j in team:\n",
    "            j['leader'] = leader_name\n",
    "            temp.append(j)\n",
    "        result.append(temp)\n",
    "    return result"
   ]
  },
  {
   "cell_type": "code",
   "execution_count": 84,
   "metadata": {},
   "outputs": [],
   "source": [
    "teams_1 = addLeaders(authors,leaders)"
   ]
  },
  {
   "cell_type": "markdown",
   "metadata": {},
   "source": [
    "### *addCitations( )*"
   ]
  },
  {
   "cell_type": "code",
   "execution_count": 85,
   "metadata": {},
   "outputs": [],
   "source": [
    "citations = df['Times Cited']"
   ]
  },
  {
   "cell_type": "code",
   "execution_count": 86,
   "metadata": {},
   "outputs": [],
   "source": [
    "def addCitations(teams,citations):\n",
    "    result = []\n",
    "    for team,times_cited in zip(teams,citations):\n",
    "        temp = []\n",
    "        for j in team:\n",
    "            j['times_cited'] = times_cited\n",
    "            temp.append(j)\n",
    "        result.append(temp)\n",
    "    return result"
   ]
  },
  {
   "cell_type": "code",
   "execution_count": 87,
   "metadata": {},
   "outputs": [],
   "source": [
    "teams_2 = addCitations(teams,citations)"
   ]
  },
  {
   "cell_type": "markdown",
   "metadata": {},
   "source": [
    "## __Removing__ teams without Indians"
   ]
  },
  {
   "cell_type": "code",
   "execution_count": 88,
   "metadata": {},
   "outputs": [],
   "source": [
    "def remove(teams_data):\n",
    "    data = []\n",
    "    for i in teams_data:\n",
    "        countries = []\n",
    "        for author in i:\n",
    "            countries.append(author['country'])\n",
    "        if(\"India\" in countries):    \n",
    "            data.append(i)    \n",
    "    return data\n",
    "\n",
    "teams_data = remove(teams_2)"
   ]
  },
  {
   "cell_type": "markdown",
   "metadata": {},
   "source": [
    "### *addTeamIds()*"
   ]
  },
  {
   "cell_type": "code",
   "execution_count": 89,
   "metadata": {
    "tags": []
   },
   "outputs": [],
   "source": [
    "def addTeamids(teams_data):\n",
    "    team_id = 1\n",
    "    for i in teams_data:\n",
    "        for author in i:\n",
    "            author['team_id'] = team_id\n",
    "        team_id += 1"
   ]
  },
  {
   "cell_type": "code",
   "execution_count": 90,
   "metadata": {},
   "outputs": [],
   "source": [
    "addTeamids(teams_data)"
   ]
  },
  {
   "cell_type": "markdown",
   "metadata": {},
   "source": [
    "### *addAuthorPositions()*"
   ]
  },
  {
   "cell_type": "code",
   "execution_count": 91,
   "metadata": {},
   "outputs": [],
   "source": [
    "def addAuthorPositions(teams_data):\n",
    "    for i in teams_data:\n",
    "        for index,author in enumerate(i):\n",
    "            if(index == 0):\n",
    "                author['position'] = 'first'\n",
    "            elif(index == len(i)-1):\n",
    "                author['position'] = 'last'\n",
    "            else:\n",
    "                author['position'] = 'other'\n",
    "            \n",
    "            if(author['full_name'] == author['leader']):\n",
    "                if(author['position'] == 'first'):\n",
    "                    author['position'] = 'first, leader'\n",
    "                elif(author['position'] == 'last'):\n",
    "                    author['position'] = 'last, leader'\n",
    "                else:\n",
    "                    author['position'] = 'leader'"
   ]
  },
  {
   "cell_type": "code",
   "execution_count": 92,
   "metadata": {},
   "outputs": [],
   "source": [
    "addAuthorPositions(teams_data)"
   ]
  },
  {
   "cell_type": "code",
   "execution_count": 93,
   "metadata": {},
   "outputs": [],
   "source": [
    "data = []\n",
    "for i in teams_data:\n",
    "    for author in i:\n",
    "        data.append(author)        "
   ]
  },
  {
   "cell_type": "code",
   "execution_count": 94,
   "metadata": {},
   "outputs": [
    {
     "data": {
      "text/plain": [
       "31292"
      ]
     },
     "execution_count": 94,
     "metadata": {},
     "output_type": "execute_result"
    }
   ],
   "source": [
    "len(data)"
   ]
  },
  {
   "cell_type": "markdown",
   "metadata": {},
   "source": [
    "## Adding __api names__ to authors"
   ]
  },
  {
   "cell_type": "code",
   "execution_count": 95,
   "metadata": {},
   "outputs": [],
   "source": [
    "for i in data:\n",
    "    first_name = i[\"first_name\"].split(\" \")\n",
    "    if(len(first_name[0]) > 1):\n",
    "        i['api_name'] = first_name[0]\n",
    "    else:\n",
    "        last_name = i[\"last_name\"].split(\" \")\n",
    "        i['api_name'] = last_name[0]   "
   ]
  },
  {
   "cell_type": "code",
   "execution_count": 96,
   "metadata": {},
   "outputs": [],
   "source": [
    "# file_data = pd.DataFrame(data)\n",
    "# file_data.to_csv(\"data.csv\", index=False)"
   ]
  },
  {
   "cell_type": "markdown",
   "metadata": {},
   "source": [
    "#### Deleted :\n",
    "\n",
    "- 508 - Team : 248\n",
    "- A-602 Venkatesh Pooja - Team : 943"
   ]
  }
 ],
 "metadata": {
  "kernelspec": {
   "display_name": "Python 3",
   "language": "python",
   "name": "python3"
  },
  "language_info": {
   "codemirror_mode": {
    "name": "ipython",
    "version": 3
   },
   "file_extension": ".py",
   "mimetype": "text/x-python",
   "name": "python",
   "nbconvert_exporter": "python",
   "pygments_lexer": "ipython3",
   "version": "3.8.8"
  }
 },
 "nbformat": 4,
 "nbformat_minor": 4
}
