{
 "cells": [
  {
   "cell_type": "code",
   "execution_count": 1,
   "id": "695ee9cd-993b-4695-b3da-08b78eef6543",
   "metadata": {},
   "outputs": [],
   "source": [
    "import pandas as pd\n",
    "import json\n",
    "from itertools import groupby"
   ]
  },
  {
   "cell_type": "code",
   "execution_count": 2,
   "id": "d47b3802-ff8f-4c1d-9b87-bea33d895cf6",
   "metadata": {},
   "outputs": [],
   "source": [
    "df = pd.read_csv(\"data.csv\")\n",
    "json_data = json.loads(df.to_json(orient=\"records\"))"
   ]
  },
  {
   "cell_type": "code",
   "execution_count": 3,
   "id": "ed3ec4d0-7f97-434c-bc0f-76e1ffc3c224",
   "metadata": {},
   "outputs": [],
   "source": [
    "all_authors = []\n",
    "\n",
    "def key_func(k):\n",
    "    return k['team_id']\n",
    "\n",
    "for key, value in groupby(json_data, key = key_func):\n",
    "    all_authors.append(list(value))"
   ]
  },
  {
   "cell_type": "markdown",
   "id": "21a7d21c-37ff-49fb-9792-883ab1fc2d65",
   "metadata": {},
   "source": [
    "## __Removing__ teams with only Indians"
   ]
  },
  {
   "cell_type": "code",
   "execution_count": 4,
   "id": "8c2cdf62-4615-46ec-b0f8-baec98564ffd",
   "metadata": {},
   "outputs": [],
   "source": [
    "def check(countries):\n",
    "    x = set(countries)\n",
    "    if('India' in x):\n",
    "        x.remove('India')\n",
    "    if(len(x) > 0):\n",
    "        return True\n",
    "    else:\n",
    "        return False"
   ]
  },
  {
   "cell_type": "code",
   "execution_count": 5,
   "id": "07237d17-ee4d-4c58-9bb4-82c30dacee9e",
   "metadata": {},
   "outputs": [],
   "source": [
    "def exclude(authors_data):\n",
    "    data = []\n",
    "    for i in authors_data:\n",
    "        countries = []\n",
    "        for author in i:\n",
    "            countries.append(author['country'])\n",
    "        if(check(countries) == True):    \n",
    "            data.append(i)    \n",
    "    return data\n",
    "\n",
    "authors_data = exclude(all_authors)"
   ]
  },
  {
   "cell_type": "code",
   "execution_count": 6,
   "id": "4b76aa25-749e-401d-9ed1-e02b3d91a5b7",
   "metadata": {},
   "outputs": [
    {
     "data": {
      "text/plain": [
       "1535"
      ]
     },
     "execution_count": 6,
     "metadata": {},
     "output_type": "execute_result"
    }
   ],
   "source": [
    "len(authors_data)"
   ]
  },
  {
   "cell_type": "code",
   "execution_count": 7,
   "id": "891bb700-de6a-4e81-aae4-4a9b1870a2e0",
   "metadata": {},
   "outputs": [],
   "source": [
    "data = []\n",
    "for i in authors_data:\n",
    "    for author in i:\n",
    "        data.append(author)   "
   ]
  },
  {
   "cell_type": "code",
   "execution_count": 8,
   "id": "fbcc6823-612a-4a68-94c4-fa6e5fe72613",
   "metadata": {},
   "outputs": [],
   "source": [
    "# file_data = pd.DataFrame(data)\n",
    "# file_data.to_csv(\"collaboration.csv\", index=False)"
   ]
  }
 ],
 "metadata": {
  "kernelspec": {
   "display_name": "Python 3",
   "language": "python",
   "name": "python3"
  },
  "language_info": {
   "codemirror_mode": {
    "name": "ipython",
    "version": 3
   },
   "file_extension": ".py",
   "mimetype": "text/x-python",
   "name": "python",
   "nbconvert_exporter": "python",
   "pygments_lexer": "ipython3",
   "version": "3.8.8"
  }
 },
 "nbformat": 4,
 "nbformat_minor": 5
}
