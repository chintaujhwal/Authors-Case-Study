{
 "cells": [
  {
   "cell_type": "code",
   "execution_count": 1,
   "id": "419e4289-e5b6-468e-9b5b-3c499ac8ce8d",
   "metadata": {},
   "outputs": [],
   "source": [
    "import pandas as pd\n",
    "import json"
   ]
  },
  {
   "cell_type": "code",
   "execution_count": 2,
   "id": "1d196aec-38aa-42f2-9cae-339f6c9edd0a",
   "metadata": {},
   "outputs": [],
   "source": [
    "df = pd.read_csv('data_indians.csv')\n",
    "universities = df.university.unique()"
   ]
  },
  {
   "cell_type": "code",
   "execution_count": 3,
   "id": "3bef22c3-13e3-42ff-b343-1fdcf840d36d",
   "metadata": {},
   "outputs": [],
   "source": [
    "def university_type(name):\n",
    "    name = str(name)\n",
    "    name = name.lower()\n",
    "    university_type = \"\"\n",
    "    \n",
    "    if(\"inst\" in name):\n",
    "        university_type = \"Institute\"\n",
    "    elif(\"coll\" in name):\n",
    "        university_type = \"College\"\n",
    "    elif(\"hosp\" in name or \"clin\" in name):\n",
    "        university_type = \"Hospital\"\n",
    "    elif(\"coll\" in name and \"hosp\" in name):\n",
    "        university_type = \"Hospital and College\"\n",
    "    elif(\"univ\" in name):\n",
    "        university_type = \"University\"\n",
    "    elif(\"acad\" in name):\n",
    "        university_type = \"Academy\"\n",
    "    elif(\"ctr\" in name or \"res\" in name):\n",
    "        university_type = \"Research Center\"\n",
    "    elif(\"sch\" in name):\n",
    "        university_type = \"School\"\n",
    "    else:\n",
    "        university_type = \"None\"\n",
    "        \n",
    "    return university_type"
   ]
  },
  {
   "cell_type": "code",
   "execution_count": 4,
   "id": "fa14af67-ce28-41c1-b478-99e2dc62df61",
   "metadata": {},
   "outputs": [],
   "source": [
    "data = []\n",
    "\n",
    "for i in universities:\n",
    "    university = {}\n",
    "    university['name'] = i\n",
    "    university['type'] = university_type(i)\n",
    "        \n",
    "    data.append(university)"
   ]
  },
  {
   "cell_type": "code",
   "execution_count": 5,
   "id": "a33a9a81-100c-4e61-9c21-835f7b125bf3",
   "metadata": {},
   "outputs": [
    {
     "data": {
      "text/plain": [
       "3110"
      ]
     },
     "execution_count": 5,
     "metadata": {},
     "output_type": "execute_result"
    }
   ],
   "source": [
    "len(data)"
   ]
  },
  {
   "cell_type": "code",
   "execution_count": 6,
   "id": "44d629b1-a865-4c3e-b965-e083bbf4b03f",
   "metadata": {},
   "outputs": [],
   "source": [
    "file_data = pd.DataFrame(data)\n",
    "file_data.to_csv(\"universities.csv\", index=False)"
   ]
  },
  {
   "cell_type": "markdown",
   "id": "9d00d131-6da6-4c0e-a64b-cb0eeec86dae",
   "metadata": {},
   "source": [
    "## adding __university_type__ to __data_indians.csv__"
   ]
  },
  {
   "cell_type": "code",
   "execution_count": 7,
   "id": "fad6ec40-2d29-44e9-8152-4aea35987a23",
   "metadata": {},
   "outputs": [],
   "source": [
    "# json_data = json.loads(df.to_json(orient=\"records\"))"
   ]
  },
  {
   "cell_type": "code",
   "execution_count": 8,
   "id": "fc640eb5-def0-4a66-b6f0-479587b7cb71",
   "metadata": {},
   "outputs": [],
   "source": [
    "# for i in json_data:\n",
    "#     i['university_type'] = university_type(i['university'])"
   ]
  },
  {
   "cell_type": "code",
   "execution_count": 9,
   "id": "6dba1be7-4422-4ec6-9f93-92aea96d37c4",
   "metadata": {},
   "outputs": [],
   "source": [
    "# file_data = pd.DataFrame(json_data)\n",
    "# file_data.to_csv(\"data_indians.csv\", index=False)"
   ]
  }
 ],
 "metadata": {
  "kernelspec": {
   "display_name": "Python 3",
   "language": "python",
   "name": "python3"
  },
  "language_info": {
   "codemirror_mode": {
    "name": "ipython",
    "version": 3
   },
   "file_extension": ".py",
   "mimetype": "text/x-python",
   "name": "python",
   "nbconvert_exporter": "python",
   "pygments_lexer": "ipython3",
   "version": "3.8.8"
  }
 },
 "nbformat": 4,
 "nbformat_minor": 5
}
