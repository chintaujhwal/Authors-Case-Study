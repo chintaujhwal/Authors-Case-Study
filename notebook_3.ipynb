{
 "cells": [
  {
   "cell_type": "code",
   "execution_count": 1,
   "id": "419e4289-e5b6-468e-9b5b-3c499ac8ce8d",
   "metadata": {},
   "outputs": [],
   "source": [
    "import json\n",
    "from itertools import groupby"
   ]
  },
  {
   "cell_type": "code",
   "execution_count": 2,
   "id": "887d1aad-5c86-4684-a9bc-09896321a2d5",
   "metadata": {},
   "outputs": [],
   "source": [
    "f = open(\"data.json\",\"r\")\n",
    "json_data = json.load(f)"
   ]
  },
  {
   "cell_type": "code",
   "execution_count": 3,
   "id": "24e135d6-23bc-47a9-8c9c-e02adbee8422",
   "metadata": {},
   "outputs": [],
   "source": [
    "all_authors = []\n",
    "\n",
    "def key_func(k):\n",
    "    return k['team_id']\n",
    "\n",
    "for key, value in groupby(json_data, key = key_func):\n",
    "    all_authors.append(list(value))"
   ]
  },
  {
   "cell_type": "code",
   "execution_count": 4,
   "id": "10196176-41e2-49f8-b92a-b691b43992fa",
   "metadata": {},
   "outputs": [],
   "source": [
    "sample = [{'team_id': 248,\n",
    "  'first_name': 'Munishwar Nath',\n",
    "  'last_name': 'Gupta',\n",
    "  'full_name': 'Munishwar Nath, Gupta',\n",
    "  'position': 'first',\n",
    "  'department': 'Biochem Engn & Biotechnol',\n",
    "  'university': 'Indian Inst Technol',\n",
    "  'country': 'India',\n",
    "  'leader': 'Ipsita, Roy',\n",
    "  'api_name': 'Munishwar',\n",
    "  'gender': 'male',\n",
    "  'probability': 1,\n",
    "  'count': 5},\n",
    " {'team_id': 248,\n",
    "  'first_name': 'Ipsita',\n",
    "  'last_name': 'Roy',\n",
    "  'full_name': 'Ipsita, Roy',\n",
    "  'position': 'leader',\n",
    "  'department': 'Biotechnol',\n",
    "  'university': 'Natl Inst Pharmaceut Educ & Res NIPER',\n",
    "  'country': 'India',\n",
    "  'leader': 'Ipsita, Roy',\n",
    "  'api_name': 'Ipsita',\n",
    "  'gender': 'female',\n",
    "  'probability': 1,\n",
    "  'count': 19},\n",
    " {'team_id': 248,\n",
    "  'first_name': 'Munishwar Nath',\n",
    "  'last_name': 'Gupta',\n",
    "  'full_name': 'Munishwar Nath, Gupta',\n",
    "  'position': 'other',\n",
    "  'department': 'Block 3',\n",
    "  'university': 508,\n",
    "  'country': 'India',\n",
    "  'leader': 'Ipsita, Roy',\n",
    "  'api_name': 'Munishwar',\n",
    "  'gender': 'male',\n",
    "  'probability': 1,\n",
    "  'count': 5},\n",
    " {'team_id': 248,\n",
    "  'first_name': 'Ipsita',\n",
    "  'last_name': 'Roy',\n",
    "  'full_name': 'Ipsita, Roy',\n",
    "  'position': 'last, leader',\n",
    "  'department': 'Block 3',\n",
    "  'university': 508,\n",
    "  'country': 'India',\n",
    "  'leader': 'Ipsita, Roy',\n",
    "  'api_name': 'Ipsita',\n",
    "  'gender': 'female',\n",
    "  'probability': 1,\n",
    "  'count': 19}]"
   ]
  },
  {
   "cell_type": "code",
   "execution_count": 5,
   "id": "7606499d-396d-46d0-81fa-7ea786ad40ae",
   "metadata": {},
   "outputs": [],
   "source": [
    "def remove_duplicates(sample):\n",
    "    full_names = []\n",
    "    for i in sample:\n",
    "        full_names.append(i['full_name'])\n",
    "        for i in full_names:\n",
    "            if(full_names.count(i) > 1):\n",
    "                sample.pop(full_names.index(i,full_names.index(i)+1))\n",
    "    return sample           "
   ]
  },
  {
   "cell_type": "code",
   "execution_count": null,
   "id": "be251276-6ef3-4f24-85c9-a8053a9f7ad7",
   "metadata": {},
   "outputs": [],
   "source": [
    "# data = []\n",
    "# for i in authors_data:\n",
    "#     for author in i:\n",
    "#         data.append(author)   "
   ]
  },
  {
   "cell_type": "code",
   "execution_count": null,
   "id": "44d629b1-a865-4c3e-b965-e083bbf4b03f",
   "metadata": {},
   "outputs": [],
   "source": [
    "# file = open(\"new_data.txt\",\"w\")\n",
    "# file.write(str(data))"
   ]
  }
 ],
 "metadata": {
  "kernelspec": {
   "display_name": "Python 3",
   "language": "python",
   "name": "python3"
  },
  "language_info": {
   "codemirror_mode": {
    "name": "ipython",
    "version": 3
   },
   "file_extension": ".py",
   "mimetype": "text/x-python",
   "name": "python",
   "nbconvert_exporter": "python",
   "pygments_lexer": "ipython3",
   "version": "3.8.8"
  }
 },
 "nbformat": 4,
 "nbformat_minor": 5
}
