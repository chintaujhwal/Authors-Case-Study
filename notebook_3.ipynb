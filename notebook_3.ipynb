{
 "cells": [
  {
   "cell_type": "code",
   "execution_count": 8,
   "id": "419e4289-e5b6-468e-9b5b-3c499ac8ce8d",
   "metadata": {},
   "outputs": [],
   "source": [
    "import pandas as pd"
   ]
  },
  {
   "cell_type": "code",
   "execution_count": 9,
   "id": "887d1aad-5c86-4684-a9bc-09896321a2d5",
   "metadata": {},
   "outputs": [],
   "source": [
    "df = pd.read_csv('universities.csv')"
   ]
  },
  {
   "cell_type": "code",
   "execution_count": 15,
   "id": "3ed9dd69-1d35-45de-8cb8-bbd2a9411874",
   "metadata": {},
   "outputs": [
    {
     "data": {
      "text/html": [
       "<div>\n",
       "<style scoped>\n",
       "    .dataframe tbody tr th:only-of-type {\n",
       "        vertical-align: middle;\n",
       "    }\n",
       "\n",
       "    .dataframe tbody tr th {\n",
       "        vertical-align: top;\n",
       "    }\n",
       "\n",
       "    .dataframe thead th {\n",
       "        text-align: right;\n",
       "    }\n",
       "</style>\n",
       "<table border=\"1\" class=\"dataframe\">\n",
       "  <thead>\n",
       "    <tr style=\"text-align: right;\">\n",
       "      <th></th>\n",
       "      <th>university</th>\n",
       "    </tr>\n",
       "  </thead>\n",
       "  <tbody>\n",
       "    <tr>\n",
       "      <th>0</th>\n",
       "      <td>360 diagnost &amp; hlth serv</td>\n",
       "    </tr>\n",
       "    <tr>\n",
       "      <th>1</th>\n",
       "      <td>40 jadunath sarbovouma lane</td>\n",
       "    </tr>\n",
       "    <tr>\n",
       "      <th>2</th>\n",
       "      <td>42 vrindavan gardens b</td>\n",
       "    </tr>\n",
       "    <tr>\n",
       "      <th>3</th>\n",
       "      <td>90-66 a</td>\n",
       "    </tr>\n",
       "    <tr>\n",
       "      <th>4</th>\n",
       "      <td>a-302 adarsh gardens</td>\n",
       "    </tr>\n",
       "  </tbody>\n",
       "</table>\n",
       "</div>"
      ],
      "text/plain": [
       "                    university\n",
       "0     360 diagnost & hlth serv\n",
       "1  40 jadunath sarbovouma lane\n",
       "2       42 vrindavan gardens b\n",
       "3                      90-66 a\n",
       "4         a-302 adarsh gardens"
      ]
     },
     "execution_count": 15,
     "metadata": {},
     "output_type": "execute_result"
    }
   ],
   "source": [
    "df.head()"
   ]
  },
  {
   "cell_type": "code",
   "execution_count": 11,
   "id": "be251276-6ef3-4f24-85c9-a8053a9f7ad7",
   "metadata": {},
   "outputs": [],
   "source": [
    "# data = []\n",
    "# for i in authors_data:\n",
    "#     for author in i:\n",
    "#         data.append(author)   "
   ]
  },
  {
   "cell_type": "code",
   "execution_count": 12,
   "id": "44d629b1-a865-4c3e-b965-e083bbf4b03f",
   "metadata": {},
   "outputs": [],
   "source": [
    "# file = open(\"new_data.txt\",\"w\")\n",
    "# file.write(str(data))"
   ]
  }
 ],
 "metadata": {
  "kernelspec": {
   "display_name": "Python 3",
   "language": "python",
   "name": "python3"
  },
  "language_info": {
   "codemirror_mode": {
    "name": "ipython",
    "version": 3
   },
   "file_extension": ".py",
   "mimetype": "text/x-python",
   "name": "python",
   "nbconvert_exporter": "python",
   "pygments_lexer": "ipython3",
   "version": "3.8.8"
  }
 },
 "nbformat": 4,
 "nbformat_minor": 5
}
