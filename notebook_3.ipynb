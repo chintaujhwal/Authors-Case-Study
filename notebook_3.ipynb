{
 "cells": [
  {
   "cell_type": "code",
   "execution_count": 1,
   "id": "419e4289-e5b6-468e-9b5b-3c499ac8ce8d",
   "metadata": {},
   "outputs": [],
   "source": [
    "import pandas as pd\n",
    "import json"
   ]
  },
  {
   "cell_type": "code",
   "execution_count": 2,
   "id": "1d196aec-38aa-42f2-9cae-339f6c9edd0a",
   "metadata": {},
   "outputs": [],
   "source": [
    "df = pd.read_csv('data_indians.csv')\n",
    "organizations = df.organization.unique()"
   ]
  },
  {
   "cell_type": "code",
   "execution_count": 3,
   "id": "3bef22c3-13e3-42ff-b343-1fdcf840d36d",
   "metadata": {},
   "outputs": [],
   "source": [
    "def organization_type(name):\n",
    "    name = str(name)\n",
    "    name = name.lower()\n",
    "    organization_type = \"\"\n",
    "    \n",
    "    if(\"inst\" in name):\n",
    "        organization_type = \"Institute\"\n",
    "    elif(\"coll\" in name):\n",
    "        organization_type = \"College\"\n",
    "    elif(\"hosp\" in name or \"clin\" in name):\n",
    "        organization_type = \"Hospital\"\n",
    "    elif(\"coll\" in name and \"hosp\" in name):\n",
    "        organization_type = \"Hospital and College\"\n",
    "    elif(\"univ\" in name):\n",
    "        organization_type = \"organization\"\n",
    "    elif(\"acad\" in name):\n",
    "        organization_type = \"Academy\"\n",
    "    elif(\"ctr\" in name or \"res\" in name):\n",
    "        organization_type = \"Research Center\"\n",
    "    elif(\"sch\" in name):\n",
    "        organization_type = \"School\"\n",
    "    else:\n",
    "        organization_type = \"None\"\n",
    "        \n",
    "    return organization_type"
   ]
  },
  {
   "cell_type": "code",
   "execution_count": 4,
   "id": "fa14af67-ce28-41c1-b478-99e2dc62df61",
   "metadata": {},
   "outputs": [],
   "source": [
    "data = []\n",
    "\n",
    "for i in organizations:\n",
    "    organization = {}\n",
    "    organization['name'] = i\n",
    "    organization['type'] = organization_type(i)\n",
    "        \n",
    "    data.append(organization)"
   ]
  },
  {
   "cell_type": "code",
   "execution_count": 5,
   "id": "a33a9a81-100c-4e61-9c21-835f7b125bf3",
   "metadata": {},
   "outputs": [
    {
     "data": {
      "text/plain": [
       "3110"
      ]
     },
     "execution_count": 5,
     "metadata": {},
     "output_type": "execute_result"
    }
   ],
   "source": [
    "len(data)"
   ]
  },
  {
   "cell_type": "code",
   "execution_count": 6,
   "id": "44d629b1-a865-4c3e-b965-e083bbf4b03f",
   "metadata": {},
   "outputs": [],
   "source": [
    "file_data = pd.DataFrame(data)\n",
    "# file_data.to_csv(\"organizations.csv\", index=False)"
   ]
  }
 ],
 "metadata": {
  "kernelspec": {
   "display_name": "Python 3",
   "language": "python",
   "name": "python3"
  },
  "language_info": {
   "codemirror_mode": {
    "name": "ipython",
    "version": 3
   },
   "file_extension": ".py",
   "mimetype": "text/x-python",
   "name": "python",
   "nbconvert_exporter": "python",
   "pygments_lexer": "ipython3",
   "version": "3.8.8"
  }
 },
 "nbformat": 4,
 "nbformat_minor": 5
}
