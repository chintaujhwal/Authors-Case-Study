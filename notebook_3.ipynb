{
 "cells": [
  {
   "cell_type": "code",
   "execution_count": 3,
   "id": "419e4289-e5b6-468e-9b5b-3c499ac8ce8d",
   "metadata": {},
   "outputs": [],
   "source": [
    "import pandas as pd\n",
    "import json\n",
    "import csv"
   ]
  },
  {
   "cell_type": "code",
   "execution_count": 18,
   "id": "1d196aec-38aa-42f2-9cae-339f6c9edd0a",
   "metadata": {},
   "outputs": [],
   "source": [
    "df = pd.read_csv('data.csv')\n",
    "universities = df.university.unique()"
   ]
  },
  {
   "cell_type": "code",
   "execution_count": 25,
   "id": "fa14af67-ce28-41c1-b478-99e2dc62df61",
   "metadata": {},
   "outputs": [],
   "source": [
    "data = []\n",
    "\n",
    "for i in universities:\n",
    "    university = {}\n",
    "    university['name'] = i\n",
    "    temp = i.lower()\n",
    "    \n",
    "    if(\"inst\" in temp):\n",
    "        university['type'] = \"Institute\"\n",
    "    elif(\"coll\" in temp):\n",
    "        university['type'] = \"College\"\n",
    "    elif(\"hosp\" in temp or \"clin\" in temp):\n",
    "        university['type'] = \"Hospital\"\n",
    "    elif(\"coll\" in temp and \"hosp\" in temp):\n",
    "        university['type'] = \"Hospital, College\"\n",
    "    elif(\"univ\" in temp):\n",
    "        university['type'] = \"University\"\n",
    "    elif(\"acad\" in temp):\n",
    "        university['type'] = \"Academy\"\n",
    "    elif(\"ctr\" in temp or \"res\" in temp):\n",
    "        university['type'] = \"Research\"\n",
    "    elif(\"sch\" in temp):\n",
    "        university['type'] = \"School\"\n",
    "    else:\n",
    "        university['type'] = \"None\"\n",
    "        \n",
    "    data.append(university)"
   ]
  },
  {
   "cell_type": "code",
   "execution_count": 27,
   "id": "a33a9a81-100c-4e61-9c21-835f7b125bf3",
   "metadata": {},
   "outputs": [
    {
     "data": {
      "text/plain": [
       "7210"
      ]
     },
     "execution_count": 27,
     "metadata": {},
     "output_type": "execute_result"
    }
   ],
   "source": [
    "len(data)"
   ]
  },
  {
   "cell_type": "code",
   "execution_count": 28,
   "id": "44d629b1-a865-4c3e-b965-e083bbf4b03f",
   "metadata": {},
   "outputs": [],
   "source": [
    "# file_data = pd.DataFrame(data)\n",
    "# file_data.to_csv(\"universities.csv\", index=False)"
   ]
  }
 ],
 "metadata": {
  "kernelspec": {
   "display_name": "Python 3",
   "language": "python",
   "name": "python3"
  },
  "language_info": {
   "codemirror_mode": {
    "name": "ipython",
    "version": 3
   },
   "file_extension": ".py",
   "mimetype": "text/x-python",
   "name": "python",
   "nbconvert_exporter": "python",
   "pygments_lexer": "ipython3",
   "version": "3.8.8"
  }
 },
 "nbformat": 4,
 "nbformat_minor": 5
}
