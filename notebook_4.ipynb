{
 "cells": [
  {
   "cell_type": "code",
   "execution_count": 5,
   "id": "c4e5ea7f-b2df-4d46-81fb-9f002e9db9cb",
   "metadata": {},
   "outputs": [],
   "source": [
    "import pandas as pd\n",
    "import json"
   ]
  },
  {
   "cell_type": "markdown",
   "id": "4e7be28b-e8af-4e51-b762-623367667796",
   "metadata": {},
   "source": [
    "## adding __organization_type__ to __data_indians.csv__"
   ]
  },
  {
   "cell_type": "code",
   "execution_count": 8,
   "id": "6bc2aac5-d21d-4026-86b9-24c48ebcfb23",
   "metadata": {},
   "outputs": [],
   "source": [
    "authors_df = pd.read_csv('data_indians.csv')\n",
    "organizations_df = pd.read_csv('organizations.csv')\n",
    "\n",
    "authors_data = json.loads(authors_df.to_json(orient=\"records\"))\n",
    "organizations_data = json.loads(organizations_df.to_json(orient=\"records\"))"
   ]
  },
  {
   "cell_type": "code",
   "execution_count": 10,
   "id": "4f08ab3c-74c7-44bb-96d2-4caaa9d74069",
   "metadata": {},
   "outputs": [
    {
     "name": "stdout",
     "output_type": "stream",
     "text": [
      "Done\n"
     ]
    }
   ],
   "source": [
    "for author in authors_data:\n",
    "    for i in organizations_data:\n",
    "        if(author['organization'] == i['name']):\n",
    "            author['organization_type'] = i['type']\n",
    "print(\"Done\")"
   ]
  },
  {
   "cell_type": "code",
   "execution_count": 12,
   "id": "ea2d8549-f368-48fe-9ded-269185b5c299",
   "metadata": {},
   "outputs": [],
   "source": [
    "file_data = pd.DataFrame(authors_data)\n",
    "# file_data.to_csv(\"data_indians.csv\", index=False)"
   ]
  }
 ],
 "metadata": {
  "kernelspec": {
   "display_name": "Python 3",
   "language": "python",
   "name": "python3"
  },
  "language_info": {
   "codemirror_mode": {
    "name": "ipython",
    "version": 3
   },
   "file_extension": ".py",
   "mimetype": "text/x-python",
   "name": "python",
   "nbconvert_exporter": "python",
   "pygments_lexer": "ipython3",
   "version": "3.8.8"
  }
 },
 "nbformat": 4,
 "nbformat_minor": 5
}
