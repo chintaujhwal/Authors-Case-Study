{
 "cells": [
  {
   "cell_type": "code",
   "execution_count": 15,
   "id": "745a1f27-35e7-41e3-a300-645bdfc36a99",
   "metadata": {},
   "outputs": [],
   "source": [
    "import pandas as pd\n",
    "import json\n",
    "from itertools import groupby"
   ]
  },
  {
   "cell_type": "code",
   "execution_count": 16,
   "id": "0c252c7d-53ab-4a44-8065-fb3128cb2851",
   "metadata": {},
   "outputs": [],
   "source": [
    "df = pd.read_csv(\"data.csv\")\n",
    "json_data = json.loads(df.to_json(orient=\"records\"))"
   ]
  },
  {
   "cell_type": "code",
   "execution_count": 17,
   "id": "27073500-2d99-4272-acf7-7edd56d1b767",
   "metadata": {},
   "outputs": [],
   "source": [
    "all_teams = []\n",
    "\n",
    "def key_func(k):\n",
    "    return k['team_id']\n",
    "\n",
    "for key, value in groupby(json_data, key = key_func):\n",
    "    all_teams.append(list(value))"
   ]
  },
  {
   "cell_type": "code",
   "execution_count": 18,
   "id": "36155fdd-2b77-4aaa-bc94-6bd43e17f63b",
   "metadata": {},
   "outputs": [],
   "source": [
    "organizations = df.organization.unique()"
   ]
  },
  {
   "cell_type": "markdown",
   "id": "e1940f4a-d5f8-4d7b-af9e-cd14c39ea013",
   "metadata": {},
   "source": [
    "### *getPublicationsAndCitations( )*"
   ]
  },
  {
   "cell_type": "code",
   "execution_count": 19,
   "id": "98bd6b85-6355-4aaa-a8bf-6223c900b363",
   "metadata": {},
   "outputs": [],
   "source": [
    "def getPublicationsAndCitations(organizations, all_teams):\n",
    "    data = []\n",
    "    for i in organizations:\n",
    "        temp = {}\n",
    "        temp['name'] = i\n",
    "        pubs_count = 0\n",
    "        cits_count = 0\n",
    "        for team in all_teams:\n",
    "            orgs = set()\n",
    "            cits = set()\n",
    "            for author in team:\n",
    "                orgs.add(author['organization'])\n",
    "                cits.add(author['times_cited'])\n",
    "            if(i in orgs):\n",
    "                pubs_count = pubs_count + 1  \n",
    "                cits_count = cits_count + (list(cits)[0])\n",
    "        temp['publications'] = pubs_count\n",
    "        temp['citations'] = cits_count\n",
    "        data.append(temp)\n",
    "        pubs_count = 0\n",
    "        cits_count = 0\n",
    "    \n",
    "    return data"
   ]
  },
  {
   "cell_type": "code",
   "execution_count": 20,
   "id": "9e85026a-d410-4059-8d5a-9f5b01581663",
   "metadata": {},
   "outputs": [
    {
     "name": "stdout",
     "output_type": "stream",
     "text": [
      "Done\n"
     ]
    }
   ],
   "source": [
    "data = getPublicationsAndCitations(organizations, all_teams)\n",
    "print(\"Done\")"
   ]
  },
  {
   "cell_type": "code",
   "execution_count": 21,
   "id": "7bc190a6-f686-4bbf-b36b-293eb1610e29",
   "metadata": {},
   "outputs": [],
   "source": [
    "file_data = pd.DataFrame(data)\n",
    "# file_data.to_csv(\"publications.csv\", index=False)"
   ]
  }
 ],
 "metadata": {
  "kernelspec": {
   "display_name": "Python 3",
   "language": "python",
   "name": "python3"
  },
  "language_info": {
   "codemirror_mode": {
    "name": "ipython",
    "version": 3
   },
   "file_extension": ".py",
   "mimetype": "text/x-python",
   "name": "python",
   "nbconvert_exporter": "python",
   "pygments_lexer": "ipython3",
   "version": "3.8.8"
  }
 },
 "nbformat": 4,
 "nbformat_minor": 5
}
