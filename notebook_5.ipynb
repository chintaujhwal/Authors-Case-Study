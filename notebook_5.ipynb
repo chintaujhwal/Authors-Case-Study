{
 "cells": [
  {
   "cell_type": "code",
   "execution_count": 49,
   "id": "745a1f27-35e7-41e3-a300-645bdfc36a99",
   "metadata": {},
   "outputs": [],
   "source": [
    "import pandas as pd\n",
    "import json\n",
    "from itertools import groupby"
   ]
  },
  {
   "cell_type": "code",
   "execution_count": 50,
   "id": "0c252c7d-53ab-4a44-8065-fb3128cb2851",
   "metadata": {},
   "outputs": [],
   "source": [
    "df = pd.read_csv(\"data.csv\")\n",
    "json_data = json.loads(df.to_json(orient=\"records\"))"
   ]
  },
  {
   "cell_type": "code",
   "execution_count": 51,
   "id": "27073500-2d99-4272-acf7-7edd56d1b767",
   "metadata": {},
   "outputs": [],
   "source": [
    "all_teams = []\n",
    "\n",
    "def key_func(k):\n",
    "    return k['team_id']\n",
    "\n",
    "for key, value in groupby(json_data, key = key_func):\n",
    "    all_teams.append(list(value))"
   ]
  },
  {
   "cell_type": "code",
   "execution_count": 52,
   "id": "36155fdd-2b77-4aaa-bc94-6bd43e17f63b",
   "metadata": {},
   "outputs": [],
   "source": [
    "organizations = df.organization.unique()"
   ]
  },
  {
   "cell_type": "markdown",
   "id": "e1940f4a-d5f8-4d7b-af9e-cd14c39ea013",
   "metadata": {},
   "source": [
    "### *getPublicationsCount( )*"
   ]
  },
  {
   "cell_type": "code",
   "execution_count": 53,
   "id": "98bd6b85-6355-4aaa-a8bf-6223c900b363",
   "metadata": {},
   "outputs": [],
   "source": [
    "def getPublicationsCount(organizations, all_teams):\n",
    "    publications = []\n",
    "    for i in organizations:\n",
    "        org_publications = {}\n",
    "        org_publications['name'] = i\n",
    "        count = 0\n",
    "        for team in all_teams:\n",
    "            orgs = []    \n",
    "            for author in team:\n",
    "                orgs.append(author['organization'])\n",
    "            orgs = set(orgs)\n",
    "            if(i in orgs):\n",
    "                count += 1\n",
    "        org_publications['publications'] = count\n",
    "        publications.append(org_publications)\n",
    "        count = 0\n",
    "    \n",
    "    return publications"
   ]
  },
  {
   "cell_type": "code",
   "execution_count": null,
   "id": "8c9c402b-786f-454f-ba43-44add9f752c6",
   "metadata": {},
   "outputs": [],
   "source": [
    "publications = getPublicationsCount(organizations, all_teams)\n",
    "print(\"Done\")"
   ]
  },
  {
   "cell_type": "code",
   "execution_count": 55,
   "id": "7bc190a6-f686-4bbf-b36b-293eb1610e29",
   "metadata": {},
   "outputs": [],
   "source": [
    "file_data = pd.DataFrame(publications)\n",
    "# file_data.to_csv(\"publications.csv\", index=False)"
   ]
  }
 ],
 "metadata": {
  "kernelspec": {
   "display_name": "Python 3",
   "language": "python",
   "name": "python3"
  },
  "language_info": {
   "codemirror_mode": {
    "name": "ipython",
    "version": 3
   },
   "file_extension": ".py",
   "mimetype": "text/x-python",
   "name": "python",
   "nbconvert_exporter": "python",
   "pygments_lexer": "ipython3",
   "version": "3.8.8"
  }
 },
 "nbformat": 4,
 "nbformat_minor": 5
}
