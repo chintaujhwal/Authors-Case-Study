{
 "cells": [
  {
   "cell_type": "markdown",
   "id": "cd5a2e19-ae31-4e59-9562-c6320591fd6d",
   "metadata": {},
   "source": [
    "## Ratios __MM__, __FF__ and __MF__"
   ]
  },
  {
   "cell_type": "code",
   "execution_count": 31,
   "id": "c00d4577-22cb-47eb-9055-3b5cfa3c7e2b",
   "metadata": {},
   "outputs": [],
   "source": [
    "import pandas as pd\n",
    "import json\n",
    "from itertools import groupby"
   ]
  },
  {
   "cell_type": "code",
   "execution_count": 38,
   "id": "2c119ab8-26cb-49ee-80d3-9d1e4d0e774c",
   "metadata": {},
   "outputs": [],
   "source": [
    "df = pd.read_csv(\"data_indians.csv\")\n",
    "df = df[['team_id','gender']]\n",
    "df = df.groupby(['team_id'])['gender'].apply(set)"
   ]
  },
  {
   "cell_type": "code",
   "execution_count": 39,
   "id": "86c17bd0-1f86-4250-a595-306cd89d93bb",
   "metadata": {},
   "outputs": [
    {
     "data": {
      "text/plain": [
       "team_id\n",
       "1          {female}\n",
       "2    {female, male}\n",
       "3    {female, male}\n",
       "4            {male}\n",
       "5          {female}\n",
       "Name: gender, dtype: object"
      ]
     },
     "execution_count": 39,
     "metadata": {},
     "output_type": "execute_result"
    }
   ],
   "source": [
    "df.head()"
   ]
  },
  {
   "cell_type": "code",
   "execution_count": 41,
   "id": "a45d6fd4-df90-4b9e-9c8a-ab04dd39a255",
   "metadata": {},
   "outputs": [
    {
     "name": "stdout",
     "output_type": "stream",
     "text": [
      "{'MM': 1486, 'FF': 261, 'MF': 2003, 'Total': 3750}\n"
     ]
    }
   ],
   "source": [
    "m_count = 0\n",
    "f_count = 0\n",
    "other = 0\n",
    "\n",
    "m_set = {'male'}\n",
    "f_set = {'female'}\n",
    "other_set = {'female', 'male'}\n",
    "\n",
    "for i in df:\n",
    "    if i == f_set:\n",
    "        f_count = f_count + 1\n",
    "    if i == m_set:\n",
    "        m_count = m_count + 1\n",
    "    if i == other_set:\n",
    "        other = other + 1\n",
    "\n",
    "result = {}\n",
    "\n",
    "result['MM'] = m_count\n",
    "result['FF'] = f_count\n",
    "result['MF'] = other\n",
    "result['Total'] = m_count + f_count + other\n",
    "\n",
    "print(result)"
   ]
  }
 ],
 "metadata": {
  "kernelspec": {
   "display_name": "Python 3 (ipykernel)",
   "language": "python",
   "name": "python3"
  },
  "language_info": {
   "codemirror_mode": {
    "name": "ipython",
    "version": 3
   },
   "file_extension": ".py",
   "mimetype": "text/x-python",
   "name": "python",
   "nbconvert_exporter": "python",
   "pygments_lexer": "ipython3",
   "version": "3.8.8"
  }
 },
 "nbformat": 4,
 "nbformat_minor": 5
}
